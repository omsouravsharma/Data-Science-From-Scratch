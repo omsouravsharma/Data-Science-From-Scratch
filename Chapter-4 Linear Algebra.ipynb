{
 "cells": [
  {
   "cell_type": "markdown",
   "id": "15a253f1",
   "metadata": {},
   "source": [
    "## Chapter - 4 Linear Algebra"
   ]
  },
  {
   "cell_type": "markdown",
   "id": "8df74959",
   "metadata": {},
   "source": [
    "### Vectors"
   ]
  },
  {
   "cell_type": "code",
   "execution_count": 1,
   "id": "5abfe2d9",
   "metadata": {},
   "outputs": [],
   "source": [
    "from typing import List\n",
    "\n",
    "Vector = List[float]\n",
    "\n",
    "height_wright_age=[70, 170, 40]\n",
    "\n",
    "grades = [95,80, 75,62]"
   ]
  },
  {
   "cell_type": "code",
   "execution_count": 2,
   "id": "80ded60f",
   "metadata": {},
   "outputs": [],
   "source": [
    "def add(v:Vector, w:Vector)-> Vector:\n",
    "    assert len(v) == len(w)\n",
    "    return [v_i+w_i for v_i, w_i in zip(v,w)]\n",
    "\n",
    "assert add([1,2,3], [4,5,6])\n",
    "a = add([1,2,3], [4,5,6])"
   ]
  },
  {
   "cell_type": "code",
   "execution_count": 3,
   "id": "12defda6",
   "metadata": {},
   "outputs": [
    {
     "data": {
      "text/plain": [
       "[5, 7, 9]"
      ]
     },
     "execution_count": 3,
     "metadata": {},
     "output_type": "execute_result"
    }
   ],
   "source": [
    "a"
   ]
  },
  {
   "cell_type": "code",
   "execution_count": 4,
   "id": "b88c8d4c",
   "metadata": {},
   "outputs": [],
   "source": [
    "def vector_sum(vectors: List[Vector])->  Vector:\n",
    "    \"\"\"Sum all corrosponding elements\"\"\"\n",
    "    \n",
    "    assert vectors, \"no vectors provided!\"\n",
    "    \n",
    "    # check vectors are of same size:\n",
    "    \n",
    "    num_elements = len(vectors[0])\n",
    "    \n",
    "    assert all(len(v) == num_elements for v in vectors), \"different size\"\n",
    "    \n",
    "    \n",
    "    # i-th element of the result is the sum of every vector[i]\n",
    "    \n",
    "    return [sum(vector[i] for vector in vectors)\n",
    "           for i in range(num_elements)]\n",
    "                                      \n",
    "    \n",
    "assert vector_sum([[1,2],[3,4], [5,6], [7,8]] )== [16,20]"
   ]
  },
  {
   "cell_type": "code",
   "execution_count": 5,
   "id": "53cfc51d",
   "metadata": {},
   "outputs": [],
   "source": [
    "def scalar_multiply(c:float, v:Vector)-> Vector:\n",
    "    \"\"\"Multiply every element by c\"\"\"\n",
    "    return [c * v_i for v_i in v]\n",
    "\n",
    "assert scalar_multiply(3, [2,3]) ==[6,9]"
   ]
  },
  {
   "cell_type": "code",
   "execution_count": 6,
   "id": "da021d34",
   "metadata": {},
   "outputs": [],
   "source": [
    "def vector_mean(vectors: List[Vector]) -> Vector:\n",
    "    \"\"\"Compute the element-wise average\"\"\"\n",
    "    \n",
    "    n = len(vectors)\n",
    "    return scalar_multiply(1/n, vector_sum(vectors))\n",
    "\n",
    "assert vector_mean([[1,2], [3,4],[5,6]]) ==[3,4]\n",
    "\n",
    "\n",
    "        "
   ]
  },
  {
   "cell_type": "code",
   "execution_count": 7,
   "id": "a464f427",
   "metadata": {},
   "outputs": [],
   "source": [
    "def dot(v:Vector, w:Vector)->float:\n",
    "    \n",
    "    assert len(v) == len(w), \"Equal\"\n",
    "    return sum(v_i * w_i for v_i, w_i in zip(v,w))\n",
    "\n",
    "assert dot([1,2,3],[4,5,6,]) == 32"
   ]
  },
  {
   "cell_type": "code",
   "execution_count": 8,
   "id": "7fb77c2f",
   "metadata": {},
   "outputs": [],
   "source": [
    "## sum of Square:"
   ]
  },
  {
   "cell_type": "code",
   "execution_count": 9,
   "id": "a630f8b7",
   "metadata": {},
   "outputs": [],
   "source": [
    "def sum_of_square(v:Vector)-> float:\n",
    "    \"\"\"Return multiple and sum of vector elements\"\"\"\n",
    "    \n",
    "    return dot(v,v)\n",
    "\n",
    "assert sum_of_square([1,2,3]) ==14"
   ]
  },
  {
   "cell_type": "code",
   "execution_count": 10,
   "id": "e7a8fd44",
   "metadata": {},
   "outputs": [],
   "source": [
    "import math\n",
    "\n",
    "def magnitude(v:Vector) -> float:\n",
    "    \"\"\"Return magnitude of v\"\"\"\n",
    "    return math.sqrt(sum_of_square(v))\n",
    "\n",
    "assert magnitude([3,4]) == 5"
   ]
  },
  {
   "cell_type": "markdown",
   "id": "261e12f7",
   "metadata": {},
   "source": [
    "## Matrices"
   ]
  },
  {
   "cell_type": "code",
   "execution_count": 11,
   "id": "aa36f70e",
   "metadata": {},
   "outputs": [],
   "source": [
    "Matrix = List[List[float]]\n",
    "\n",
    "A = [[1,2,3],\n",
    "    [4,5,6]]"
   ]
  },
  {
   "cell_type": "code",
   "execution_count": 12,
   "id": "11b878f4",
   "metadata": {},
   "outputs": [
    {
     "data": {
      "text/plain": [
       "2"
      ]
     },
     "execution_count": 12,
     "metadata": {},
     "output_type": "execute_result"
    }
   ],
   "source": [
    "len(A)"
   ]
  },
  {
   "cell_type": "code",
   "execution_count": 14,
   "id": "86dfe2e0",
   "metadata": {},
   "outputs": [
    {
     "data": {
      "text/plain": [
       "3"
      ]
     },
     "execution_count": 14,
     "metadata": {},
     "output_type": "execute_result"
    }
   ],
   "source": [
    "B = [[12,3],\n",
    "    [3,5.6],\n",
    "    [6,7]]\n",
    "len(B)"
   ]
  },
  {
   "cell_type": "code",
   "execution_count": 16,
   "id": "b5b88974",
   "metadata": {},
   "outputs": [],
   "source": [
    "from typing import Tuple\n",
    "\n",
    "def shape(A:Matrix) -> Tuple[int, int]:\n",
    "    \n",
    "    \"\"\"Retuen row and column number\"\"\"\n",
    "    \n",
    "    num_rows = len(A)\n",
    "    num_cols = len(A[0]) if A else o\n",
    "    \n",
    "    return num_rows, num_cols\n",
    "\n",
    "assert shape([[1,2,3], [4,5,6]]) == (2,3)"
   ]
  },
  {
   "cell_type": "code",
   "execution_count": 18,
   "id": "359a5da8",
   "metadata": {},
   "outputs": [],
   "source": [
    "from typing import Callable\n",
    "\n",
    "def make_matrix(num_rows: int, \n",
    "               num_cols: int, \n",
    "               entry_fun: Callable[[int, int], float]) -> Matrix:\n",
    "\n",
    "    return [[entry_fun(i,j)\n",
    "            for j in range(num_cols)]\n",
    "           for i in range(num_rows)]"
   ]
  },
  {
   "cell_type": "code",
   "execution_count": 21,
   "id": "531724df",
   "metadata": {},
   "outputs": [
    {
     "data": {
      "text/plain": [
       "[[1, 0, 0, 0, 0],\n",
       " [0, 1, 0, 0, 0],\n",
       " [0, 0, 1, 0, 0],\n",
       " [0, 0, 0, 1, 0],\n",
       " [0, 0, 0, 0, 1]]"
      ]
     },
     "execution_count": 21,
     "metadata": {},
     "output_type": "execute_result"
    }
   ],
   "source": [
    "def identity_matrix(n: int) -> Matrix:\n",
    "    \"\"\"Returns the n x n identity matrix\"\"\"\n",
    "    return make_matrix(n, n, lambda i, j: 1 if i == j else 0)\n",
    "\n",
    "identity_matrix(5) "
   ]
  },
  {
   "cell_type": "code",
   "execution_count": null,
   "id": "c403618d",
   "metadata": {},
   "outputs": [],
   "source": []
  }
 ],
 "metadata": {
  "kernelspec": {
   "display_name": "Python 3 (ipykernel)",
   "language": "python",
   "name": "python3"
  },
  "language_info": {
   "codemirror_mode": {
    "name": "ipython",
    "version": 3
   },
   "file_extension": ".py",
   "mimetype": "text/x-python",
   "name": "python",
   "nbconvert_exporter": "python",
   "pygments_lexer": "ipython3",
   "version": "3.9.5"
  }
 },
 "nbformat": 4,
 "nbformat_minor": 5
}

{
 "cells": [
  {
   "cell_type": "markdown",
   "id": "e03a8a09",
   "metadata": {},
   "source": [
    "## Dependence and Independence"
   ]
  },
  {
   "cell_type": "code",
   "execution_count": 2,
   "id": "ca76a091",
   "metadata": {},
   "outputs": [],
   "source": [
    "#P(E,F) = P(E) P(F)\n"
   ]
  },
  {
   "cell_type": "markdown",
   "id": "199a70b8",
   "metadata": {},
   "source": [
    "## Conditional Probability"
   ]
  },
  {
   "cell_type": "code",
   "execution_count": 1,
   "id": "98c616a0",
   "metadata": {},
   "outputs": [],
   "source": [
    "#Independent\n",
    "#P(E,F) = P(E)P(F)\n",
    "\n",
    "#Dependent\n",
    "\n",
    "# P(E,F) = P(E|F)/P(F)"
   ]
  },
  {
   "cell_type": "code",
   "execution_count": 5,
   "id": "286572b7",
   "metadata": {},
   "outputs": [
    {
     "name": "stdout",
     "output_type": "stream",
     "text": [
      "P(both | older): 0.4949290060851927\n",
      "P(both | either):  0.32232496697490093\n"
     ]
    }
   ],
   "source": [
    "import enum, random\n",
    "\n",
    "class Kid(enum.Enum):\n",
    "    BOY= 0\n",
    "    GIRL = 1\n",
    "\n",
    "def random_kid()->Kid:\n",
    "    return random.choice([Kid.BOY, Kid.GIRL])\n",
    "\n",
    "both_girls = 0\n",
    "older_girl = 0\n",
    "either_girl = 0\n",
    "\n",
    "random.seed(0)\n",
    "\n",
    "for _ in range(1000):\n",
    "    younger = random_kid()\n",
    "    older = random_kid()\n",
    "    \n",
    "    if older ==Kid.GIRL:\n",
    "        older_girl +=1\n",
    "    if older ==Kid.GIRL and younger == Kid.GIRL:\n",
    "        both_girls +=1\n",
    "    if older == Kid.GIRL or younger == Kid.GIRL:\n",
    "        either_girl +=1\n",
    "        \n",
    "print(\"P(both | older):\", both_girls / older_girl)\n",
    "print(\"P(both | either): \", both_girls / either_girl)\n",
    "            "
   ]
  },
  {
   "cell_type": "code",
   "execution_count": null,
   "id": "8ff5e56f",
   "metadata": {},
   "outputs": [],
   "source": []
  }
 ],
 "metadata": {
  "kernelspec": {
   "display_name": "Python 3 (ipykernel)",
   "language": "python",
   "name": "python3"
  },
  "language_info": {
   "codemirror_mode": {
    "name": "ipython",
    "version": 3
   },
   "file_extension": ".py",
   "mimetype": "text/x-python",
   "name": "python",
   "nbconvert_exporter": "python",
   "pygments_lexer": "ipython3",
   "version": "3.9.5"
  }
 },
 "nbformat": 4,
 "nbformat_minor": 5
}

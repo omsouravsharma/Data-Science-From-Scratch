{
 "cells": [
  {
   "cell_type": "markdown",
   "id": "e03a8a09",
   "metadata": {},
   "source": [
    "## Dependence and Independence"
   ]
  },
  {
   "cell_type": "code",
   "execution_count": 2,
   "id": "ca76a091",
   "metadata": {},
   "outputs": [],
   "source": [
    "#P(E,F) = P(E) P(F)\n"
   ]
  },
  {
   "cell_type": "markdown",
   "id": "199a70b8",
   "metadata": {},
   "source": [
    "## Conditional Probability"
   ]
  },
  {
   "cell_type": "code",
   "execution_count": null,
   "id": "98c616a0",
   "metadata": {},
   "outputs": [],
   "source": []
  }
 ],
 "metadata": {
  "kernelspec": {
   "display_name": "Python 3 (ipykernel)",
   "language": "python",
   "name": "python3"
  },
  "language_info": {
   "codemirror_mode": {
    "name": "ipython",
    "version": 3
   },
   "file_extension": ".py",
   "mimetype": "text/x-python",
   "name": "python",
   "nbconvert_exporter": "python",
   "pygments_lexer": "ipython3",
   "version": "3.9.5"
  }
 },
 "nbformat": 4,
 "nbformat_minor": 5
}

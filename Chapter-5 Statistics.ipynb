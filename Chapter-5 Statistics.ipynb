{
 "cells": [
  {
   "cell_type": "code",
   "execution_count": 7,
   "id": "b080e5b8",
   "metadata": {},
   "outputs": [],
   "source": [
    "from typing import List"
   ]
  },
  {
   "cell_type": "code",
   "execution_count": 8,
   "id": "3ec2c068",
   "metadata": {},
   "outputs": [],
   "source": [
    "#Central Tendencies. \n",
    "\n",
    "\n",
    "def _median_odd(xs: List[float])-> float:\n",
    "    \"\"\"If list of odd median is middle\"\"\"\n",
    "    return sorted(xs)[len(xs)//2]\n",
    "\n",
    "def _median_even(xs: List[float])-> float:\n",
    "    \"\"\"If list is even then median is avf of middle nums\"\"\"\n",
    "    sorted_xs = sorted(xs)\n",
    "    hi_midpoint = len(xs)//2\n",
    "    return (sorted_xs[hi_midpoint -1] + sorted_xs[hi_midpoint]) /2\n",
    "\n",
    "def median(v:List[float]) -> float:\n",
    "    \"\"\"find the median\"\"\"\n",
    "    return _median_even(v) if len(v) %2 == 0 else _median_odd(v)\n"
   ]
  },
  {
   "cell_type": "code",
   "execution_count": 9,
   "id": "aa92dc7d",
   "metadata": {},
   "outputs": [
    {
     "data": {
      "text/plain": [
       "5"
      ]
     },
     "execution_count": 9,
     "metadata": {},
     "output_type": "execute_result"
    }
   ],
   "source": [
    "median([1, 10, 2, 9, 5])"
   ]
  },
  {
   "cell_type": "code",
   "execution_count": 10,
   "id": "c4efc35d",
   "metadata": {},
   "outputs": [
    {
     "data": {
      "text/plain": [
       "5.5"
      ]
     },
     "execution_count": 10,
     "metadata": {},
     "output_type": "execute_result"
    }
   ],
   "source": [
    "median([1, 9, 2, 10])"
   ]
  },
  {
   "cell_type": "markdown",
   "id": "4ae06390",
   "metadata": {},
   "source": [
    "## Dispersion"
   ]
  },
  {
   "cell_type": "markdown",
   "id": "cc25742d",
   "metadata": {},
   "source": [
    "## Correlation"
   ]
  },
  {
   "cell_type": "code",
   "execution_count": 11,
   "id": "a4123c27",
   "metadata": {},
   "outputs": [],
   "source": [
    "# between -1 an 1 \n"
   ]
  },
  {
   "cell_type": "markdown",
   "id": "b13a5cb5",
   "metadata": {},
   "source": [
    "## Simpson's Paradox\n",
    "\n"
   ]
  },
  {
   "cell_type": "code",
   "execution_count": null,
   "id": "465bf2a4",
   "metadata": {},
   "outputs": [],
   "source": []
  }
 ],
 "metadata": {
  "kernelspec": {
   "display_name": "Python 3 (ipykernel)",
   "language": "python",
   "name": "python3"
  },
  "language_info": {
   "codemirror_mode": {
    "name": "ipython",
    "version": 3
   },
   "file_extension": ".py",
   "mimetype": "text/x-python",
   "name": "python",
   "nbconvert_exporter": "python",
   "pygments_lexer": "ipython3",
   "version": "3.9.5"
  }
 },
 "nbformat": 4,
 "nbformat_minor": 5
}

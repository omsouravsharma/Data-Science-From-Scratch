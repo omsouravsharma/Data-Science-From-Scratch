{
 "cells": [
  {
   "cell_type": "markdown",
   "id": "c048a05d",
   "metadata": {},
   "source": [
    "# A Crash Course in Python"
   ]
  },
  {
   "cell_type": "markdown",
   "id": "5a39cc34",
   "metadata": {},
   "source": [
    "## Whitspace Formatting"
   ]
  },
  {
   "cell_type": "code",
   "execution_count": 1,
   "id": "c8beff03",
   "metadata": {},
   "outputs": [
    {
     "name": "stdout",
     "output_type": "stream",
     "text": [
      "1\n",
      " \n",
      "1\n",
      "2\n",
      "2\n",
      "3\n",
      "3\n",
      "4\n",
      "4\n",
      "5\n",
      "5\n",
      "6\n",
      "1\n",
      "2\n",
      " \n",
      "1\n",
      "3\n",
      "2\n",
      "4\n",
      "3\n",
      "5\n",
      "4\n",
      "6\n",
      "5\n",
      "7\n",
      "2\n",
      "3\n",
      " \n",
      "1\n",
      "4\n",
      "2\n",
      "5\n",
      "3\n",
      "6\n",
      "4\n",
      "7\n",
      "5\n",
      "8\n",
      "3\n",
      "4\n",
      " \n",
      "1\n",
      "5\n",
      "2\n",
      "6\n",
      "3\n",
      "7\n",
      "4\n",
      "8\n",
      "5\n",
      "9\n",
      "4\n",
      "5\n",
      " \n",
      "1\n",
      "6\n",
      "2\n",
      "7\n",
      "3\n",
      "8\n",
      "4\n",
      "9\n",
      "5\n",
      "10\n",
      "5\n",
      "Done printing\n"
     ]
    }
   ],
   "source": [
    "for i in [1,2,3,4,5]:\n",
    "    print(i)\n",
    "    print(\" \")\n",
    "    for j in [1,2,3,4,5]:\n",
    "        print(j)\n",
    "        print(i+j)\n",
    "    print(i)\n",
    "print(\"Done printing\")"
   ]
  },
  {
   "cell_type": "code",
   "execution_count": 2,
   "id": "0f02b5bd",
   "metadata": {},
   "outputs": [],
   "source": [
    "two_plus_three = 2 + \\\n",
    "3"
   ]
  },
  {
   "cell_type": "code",
   "execution_count": 3,
   "id": "205f28d5",
   "metadata": {},
   "outputs": [
    {
     "data": {
      "text/plain": [
       "5"
      ]
     },
     "execution_count": 3,
     "metadata": {},
     "output_type": "execute_result"
    }
   ],
   "source": [
    "two_plus_three\n"
   ]
  },
  {
   "cell_type": "code",
   "execution_count": 4,
   "id": "5a31f3ab",
   "metadata": {},
   "outputs": [
    {
     "name": "stdout",
     "output_type": "stream",
     "text": [
      "1\n",
      "2\n",
      "3\n",
      "4\n",
      "5\n"
     ]
    }
   ],
   "source": [
    "for i in [1, 2, 3, 4, 5]:\n",
    "\n",
    "    # notice the blank line\n",
    "    print(i)"
   ]
  },
  {
   "cell_type": "markdown",
   "id": "d8f98b7f",
   "metadata": {},
   "source": [
    "## Modules"
   ]
  },
  {
   "cell_type": "code",
   "execution_count": 5,
   "id": "5446fd5e",
   "metadata": {},
   "outputs": [],
   "source": [
    "import re\n",
    "my_regex = re.compile(\"[0-9]+\", re.I)"
   ]
  },
  {
   "cell_type": "code",
   "execution_count": 6,
   "id": "47e9ec14",
   "metadata": {},
   "outputs": [
    {
     "data": {
      "text/plain": [
       "re.compile(r'[0-9]+', re.IGNORECASE|re.UNICODE)"
      ]
     },
     "execution_count": 6,
     "metadata": {},
     "output_type": "execute_result"
    }
   ],
   "source": [
    "my_regex\n"
   ]
  },
  {
   "cell_type": "markdown",
   "id": "f3da5d12",
   "metadata": {},
   "source": [
    "## Function"
   ]
  },
  {
   "cell_type": "code",
   "execution_count": 7,
   "id": "3557f836",
   "metadata": {},
   "outputs": [
    {
     "data": {
      "text/plain": [
       "81"
      ]
     },
     "execution_count": 7,
     "metadata": {},
     "output_type": "execute_result"
    }
   ],
   "source": [
    "def double(x):\n",
    "    return x**2\n",
    "double(9)"
   ]
  },
  {
   "cell_type": "code",
   "execution_count": 8,
   "id": "b038d965",
   "metadata": {},
   "outputs": [
    {
     "data": {
      "text/plain": [
       "<function __main__.<lambda>(x)>"
      ]
     },
     "execution_count": 8,
     "metadata": {},
     "output_type": "execute_result"
    }
   ],
   "source": [
    "x = 3\n",
    "a= lambda x: x*2\n",
    "a\n"
   ]
  },
  {
   "cell_type": "code",
   "execution_count": 9,
   "id": "166b3c1b",
   "metadata": {},
   "outputs": [
    {
     "data": {
      "text/plain": [
       "'\\\\t'"
      ]
     },
     "execution_count": 9,
     "metadata": {},
     "output_type": "execute_result"
    }
   ],
   "source": [
    "a = r\"\\t\"\n",
    "a"
   ]
  },
  {
   "cell_type": "code",
   "execution_count": 10,
   "id": "dc8166b0",
   "metadata": {},
   "outputs": [
    {
     "data": {
      "text/plain": [
       "'This is multi lin string \\non two lines\\n'"
      ]
     },
     "execution_count": 10,
     "metadata": {},
     "output_type": "execute_result"
    }
   ],
   "source": [
    "multiline_string = \"\"\"This is multi lin string \n",
    "on two lines\n",
    "\"\"\"\n",
    "multiline_string"
   ]
  },
  {
   "cell_type": "markdown",
   "id": "0af9dc8e",
   "metadata": {},
   "source": [
    "## Exception"
   ]
  },
  {
   "cell_type": "code",
   "execution_count": 11,
   "id": "0c777df9",
   "metadata": {},
   "outputs": [
    {
     "name": "stdout",
     "output_type": "stream",
     "text": [
      "Divide by 0 error occure\n"
     ]
    }
   ],
   "source": [
    "try:\n",
    "    print(0/0)\n",
    "except:\n",
    "    print(\"Divide by 0 error occure\")"
   ]
  },
  {
   "cell_type": "markdown",
   "id": "22358f47",
   "metadata": {},
   "source": [
    "## List"
   ]
  },
  {
   "cell_type": "code",
   "execution_count": 12,
   "id": "09ce60a3",
   "metadata": {},
   "outputs": [],
   "source": [
    "x = []\n",
    "for _ in range(0, 10):\n",
    "    x.append(_)"
   ]
  },
  {
   "cell_type": "code",
   "execution_count": 13,
   "id": "02d3927a",
   "metadata": {},
   "outputs": [
    {
     "data": {
      "text/plain": [
       "[0, 1, 2, 3, 4, 5, 6, 7, 8, 9]"
      ]
     },
     "execution_count": 13,
     "metadata": {},
     "output_type": "execute_result"
    }
   ],
   "source": [
    "x"
   ]
  },
  {
   "cell_type": "code",
   "execution_count": 14,
   "id": "6c899ecb",
   "metadata": {},
   "outputs": [
    {
     "data": {
      "text/plain": [
       "9"
      ]
     },
     "execution_count": 14,
     "metadata": {},
     "output_type": "execute_result"
    }
   ],
   "source": [
    "x [-1]"
   ]
  },
  {
   "cell_type": "code",
   "execution_count": 16,
   "id": "68923725",
   "metadata": {},
   "outputs": [
    {
     "data": {
      "text/plain": [
       "[0, 1, 2]"
      ]
     },
     "execution_count": 16,
     "metadata": {},
     "output_type": "execute_result"
    }
   ],
   "source": [
    " # Slicing i:j not including j (not inclusive)\n",
    "x[:3]"
   ]
  },
  {
   "cell_type": "code",
   "execution_count": 17,
   "id": "91210740",
   "metadata": {},
   "outputs": [
    {
     "data": {
      "text/plain": [
       "[0, 3, 6, 9]"
      ]
     },
     "execution_count": 17,
     "metadata": {},
     "output_type": "execute_result"
    }
   ],
   "source": [
    "x [::3]"
   ]
  },
  {
   "cell_type": "code",
   "execution_count": 18,
   "id": "f36cfff4",
   "metadata": {},
   "outputs": [
    {
     "data": {
      "text/plain": [
       "True"
      ]
     },
     "execution_count": 18,
     "metadata": {},
     "output_type": "execute_result"
    }
   ],
   "source": [
    "1 in x"
   ]
  },
  {
   "cell_type": "code",
   "execution_count": 19,
   "id": "366316c5",
   "metadata": {},
   "outputs": [
    {
     "data": {
      "text/plain": [
       "False"
      ]
     },
     "execution_count": 19,
     "metadata": {},
     "output_type": "execute_result"
    }
   ],
   "source": [
    "10 in x"
   ]
  },
  {
   "cell_type": "code",
   "execution_count": 20,
   "id": "da50725d",
   "metadata": {},
   "outputs": [],
   "source": [
    "x.extend([10,11])"
   ]
  },
  {
   "cell_type": "code",
   "execution_count": 21,
   "id": "f1832cac",
   "metadata": {},
   "outputs": [
    {
     "data": {
      "text/plain": [
       "[0, 1, 2, 3, 4, 5, 6, 7, 8, 9, 10, 11]"
      ]
     },
     "execution_count": 21,
     "metadata": {},
     "output_type": "execute_result"
    }
   ],
   "source": [
    "x"
   ]
  },
  {
   "cell_type": "code",
   "execution_count": 22,
   "id": "c169b425",
   "metadata": {},
   "outputs": [],
   "source": [
    "a, b = [1,2]"
   ]
  },
  {
   "cell_type": "code",
   "execution_count": 23,
   "id": "564a7e22",
   "metadata": {},
   "outputs": [
    {
     "data": {
      "text/plain": [
       "(1, 2)"
      ]
     },
     "execution_count": 23,
     "metadata": {},
     "output_type": "execute_result"
    }
   ],
   "source": [
    "a, b"
   ]
  },
  {
   "cell_type": "code",
   "execution_count": 24,
   "id": "3c205d22",
   "metadata": {},
   "outputs": [],
   "source": [
    "_, d = [2,3]"
   ]
  },
  {
   "cell_type": "code",
   "execution_count": 25,
   "id": "f80214ac",
   "metadata": {},
   "outputs": [
    {
     "data": {
      "text/plain": [
       "3"
      ]
     },
     "execution_count": 25,
     "metadata": {},
     "output_type": "execute_result"
    }
   ],
   "source": [
    "d"
   ]
  },
  {
   "cell_type": "markdown",
   "id": "d6430223",
   "metadata": {},
   "source": [
    "## Tuples"
   ]
  },
  {
   "cell_type": "code",
   "execution_count": 27,
   "id": "91ccb77c",
   "metadata": {},
   "outputs": [
    {
     "data": {
      "text/plain": [
       "(11, 30)"
      ]
     },
     "execution_count": 27,
     "metadata": {},
     "output_type": "execute_result"
    }
   ],
   "source": [
    "def sum_and_product(x, y):\n",
    "    return (x+y),(x*y)\n",
    "\n",
    "sum_and_product(5,6)"
   ]
  },
  {
   "cell_type": "code",
   "execution_count": 28,
   "id": "cf26f14b",
   "metadata": {},
   "outputs": [
    {
     "data": {
      "text/plain": [
       "(11, 30)"
      ]
     },
     "execution_count": 28,
     "metadata": {},
     "output_type": "execute_result"
    }
   ],
   "source": [
    "sp = sum_and_product(5,6)\n",
    "sp"
   ]
  },
  {
   "cell_type": "code",
   "execution_count": 29,
   "id": "fa6d9a63",
   "metadata": {},
   "outputs": [
    {
     "data": {
      "text/plain": [
       "(11, 30)"
      ]
     },
     "execution_count": 29,
     "metadata": {},
     "output_type": "execute_result"
    }
   ],
   "source": [
    "s, p = sum_and_product(5,6)\n",
    "s, p"
   ]
  },
  {
   "cell_type": "code",
   "execution_count": 30,
   "id": "3b7ad2a1",
   "metadata": {},
   "outputs": [],
   "source": [
    "x ,  y = 1 , 3 \n",
    "y , x = y , x "
   ]
  },
  {
   "cell_type": "code",
   "execution_count": 31,
   "id": "c382d34c",
   "metadata": {},
   "outputs": [
    {
     "data": {
      "text/plain": [
       "(3, 1)"
      ]
     },
     "execution_count": 31,
     "metadata": {},
     "output_type": "execute_result"
    }
   ],
   "source": [
    "y , x"
   ]
  },
  {
   "cell_type": "markdown",
   "id": "bda2bf5b",
   "metadata": {},
   "source": [
    "## Dictionaries "
   ]
  },
  {
   "cell_type": "code",
   "execution_count": 33,
   "id": "a2814373",
   "metadata": {},
   "outputs": [],
   "source": [
    "grades = {\n",
    "    \"sourav\": 100, \n",
    "    \"gaurav\": 100\n",
    "}"
   ]
  },
  {
   "cell_type": "code",
   "execution_count": 34,
   "id": "0a4ba207",
   "metadata": {},
   "outputs": [
    {
     "data": {
      "text/plain": [
       "{'sourav': 100, 'gaurav': 100}"
      ]
     },
     "execution_count": 34,
     "metadata": {},
     "output_type": "execute_result"
    }
   ],
   "source": [
    "grades"
   ]
  },
  {
   "cell_type": "code",
   "execution_count": 35,
   "id": "239ede29",
   "metadata": {},
   "outputs": [
    {
     "data": {
      "text/plain": [
       "100"
      ]
     },
     "execution_count": 35,
     "metadata": {},
     "output_type": "execute_result"
    }
   ],
   "source": [
    "grades['sourav']"
   ]
  },
  {
   "cell_type": "code",
   "execution_count": 36,
   "id": "db32e30c",
   "metadata": {},
   "outputs": [
    {
     "data": {
      "text/plain": [
       "True"
      ]
     },
     "execution_count": 36,
     "metadata": {},
     "output_type": "execute_result"
    }
   ],
   "source": [
    "'gaurav' in grades"
   ]
  },
  {
   "cell_type": "code",
   "execution_count": 37,
   "id": "e1ba29c7",
   "metadata": {},
   "outputs": [
    {
     "data": {
      "text/plain": [
       "100"
      ]
     },
     "execution_count": 37,
     "metadata": {},
     "output_type": "execute_result"
    }
   ],
   "source": [
    "grades.get('sourav')"
   ]
  },
  {
   "cell_type": "code",
   "execution_count": 40,
   "id": "a71dac7b",
   "metadata": {},
   "outputs": [
    {
     "name": "stdout",
     "output_type": "stream",
     "text": [
      "None\n"
     ]
    }
   ],
   "source": [
    "print(grades.get('sam'))"
   ]
  },
  {
   "cell_type": "code",
   "execution_count": 42,
   "id": "df16fa1e",
   "metadata": {},
   "outputs": [],
   "source": [
    "grades['sam'] = 9"
   ]
  },
  {
   "cell_type": "code",
   "execution_count": 43,
   "id": "10ea0330",
   "metadata": {},
   "outputs": [
    {
     "data": {
      "text/plain": [
       "{'sourav': 100, 'gaurav': 100, 'sam': 9}"
      ]
     },
     "execution_count": 43,
     "metadata": {},
     "output_type": "execute_result"
    }
   ],
   "source": [
    "grades"
   ]
  },
  {
   "cell_type": "code",
   "execution_count": 46,
   "id": "18b24882",
   "metadata": {},
   "outputs": [
    {
     "data": {
      "text/plain": [
       "{'user': 'omsouravsharma',\n",
       " 'text': 'data science is awesome',\n",
       " 'retweet_count': 100,\n",
       " 'hastag': ['#data', 'science', '#awesome']}"
      ]
     },
     "execution_count": 46,
     "metadata": {},
     "output_type": "execute_result"
    }
   ],
   "source": [
    "tweet = {\n",
    "    \"user\" : \"omsouravsharma\",\n",
    "    \"text\": \"data science is awesome\", \n",
    "    \"retweet_count\": 100, \n",
    "    \"hastag\": [\"#data\", \"science\", \"#awesome\"]\n",
    "}\n",
    "tweet"
   ]
  },
  {
   "cell_type": "code",
   "execution_count": 47,
   "id": "79d9b494",
   "metadata": {},
   "outputs": [
    {
     "data": {
      "text/plain": [
       "dict_keys(['user', 'text', 'retweet_count', 'hastag'])"
      ]
     },
     "execution_count": 47,
     "metadata": {},
     "output_type": "execute_result"
    }
   ],
   "source": [
    "tweet.keys()"
   ]
  },
  {
   "cell_type": "code",
   "execution_count": 48,
   "id": "b010e712",
   "metadata": {},
   "outputs": [
    {
     "data": {
      "text/plain": [
       "dict_values(['omsouravsharma', 'data science is awesome', 100, ['#data', 'science', '#awesome']])"
      ]
     },
     "execution_count": 48,
     "metadata": {},
     "output_type": "execute_result"
    }
   ],
   "source": [
    "tweet.values()"
   ]
  },
  {
   "cell_type": "code",
   "execution_count": 49,
   "id": "2e0e3885",
   "metadata": {},
   "outputs": [
    {
     "data": {
      "text/plain": [
       "dict_items([('user', 'omsouravsharma'), ('text', 'data science is awesome'), ('retweet_count', 100), ('hastag', ['#data', 'science', '#awesome'])])"
      ]
     },
     "execution_count": 49,
     "metadata": {},
     "output_type": "execute_result"
    }
   ],
   "source": [
    "tweet.items()"
   ]
  },
  {
   "cell_type": "markdown",
   "id": "8ac282b5",
   "metadata": {},
   "source": [
    "## dafaultdict"
   ]
  },
  {
   "cell_type": "code",
   "execution_count": 63,
   "id": "ab8429d2",
   "metadata": {},
   "outputs": [],
   "source": [
    "word_count = {}\n",
    "with open(\"data/book.txt\", 'r', encoding=\"utf-8\") as file:\n",
    "    content = file.read()\n",
    "    for word in content: \n",
    "        if word in word_count:\n",
    "            word_count[word] +=1\n",
    "        else:\n",
    "            word_count[word] = 1"
   ]
  },
  {
   "cell_type": "code",
   "execution_count": 64,
   "id": "a528cbbf",
   "metadata": {},
   "outputs": [
    {
     "data": {
      "text/plain": [
       "{'T': 1234,\n",
       " 'h': 28312,\n",
       " 'e': 54614,\n",
       " ' ': 98370,\n",
       " 'P': 299,\n",
       " 'r': 25427,\n",
       " 'o': 34481,\n",
       " 'j': 425,\n",
       " 'c': 10746,\n",
       " 't': 39305,\n",
       " 'G': 266,\n",
       " 'u': 13500,\n",
       " 'n': 29332,\n",
       " 'b': 6118,\n",
       " 'g': 8040,\n",
       " 'B': 517,\n",
       " 'k': 3601,\n",
       " 'f': 9105,\n",
       " 'A': 830,\n",
       " 'd': 18797,\n",
       " 'v': 4475,\n",
       " 's': 27079,\n",
       " 'S': 841,\n",
       " 'l': 17279,\n",
       " 'H': 1275,\n",
       " 'm': 11392,\n",
       " ',': 7802,\n",
       " 'y': 9293,\n",
       " 'C': 365,\n",
       " 'a': 35301,\n",
       " 'D': 254,\n",
       " '\\n': 12303,\n",
       " 'i': 27356,\n",
       " 'w': 10784,\n",
       " 'U': 93,\n",
       " 'p': 6933,\n",
       " '.': 6426,\n",
       " 'Y': 482,\n",
       " '-': 813,\n",
       " 'L': 344,\n",
       " 'I': 3864,\n",
       " ':': 70,\n",
       " 'R': 267,\n",
       " 'N': 350,\n",
       " '2': 46,\n",
       " '9': 22,\n",
       " '0': 102,\n",
       " '[': 2,\n",
       " '#': 1,\n",
       " '1': 120,\n",
       " '6': 23,\n",
       " ']': 2,\n",
       " 'M': 755,\n",
       " 'E': 343,\n",
       " 'F': 250,\n",
       " '8': 47,\n",
       " 'J': 118,\n",
       " 'z': 149,\n",
       " '*': 16,\n",
       " 'O': 370,\n",
       " 'K': 84,\n",
       " 'V': 88,\n",
       " 'X': 10,\n",
       " '’': 1051,\n",
       " '_': 142,\n",
       " 'x': 567,\n",
       " '—': 191,\n",
       " 'q': 417,\n",
       " '(': 22,\n",
       " ')': 22,\n",
       " ';': 202,\n",
       " 'W': 769,\n",
       " '“': 2764,\n",
       " '”': 2325,\n",
       " '!': 347,\n",
       " '?': 738,\n",
       " 'Q': 21,\n",
       " '‘': 434,\n",
       " '5': 25,\n",
       " '&': 7,\n",
       " 'é': 12,\n",
       " '£': 37,\n",
       " '4': 30,\n",
       " '7': 22,\n",
       " 'æ': 6,\n",
       " '3': 26,\n",
       " 'Z': 2,\n",
       " 'œ': 2,\n",
       " '½': 1,\n",
       " 'à': 1,\n",
       " 'â': 1,\n",
       " 'è': 1,\n",
       " '\"': 22,\n",
       " '/': 6,\n",
       " '%': 1,\n",
       " \"'\": 7,\n",
       " '$': 2}"
      ]
     },
     "execution_count": 64,
     "metadata": {},
     "output_type": "execute_result"
    }
   ],
   "source": [
    "word_count"
   ]
  },
  {
   "cell_type": "code",
   "execution_count": 76,
   "id": "893915a6",
   "metadata": {},
   "outputs": [],
   "source": [
    "from collections import defaultdict\n",
    "\n",
    "with open(\"data/book.txt\", 'r', encoding=\"utf-8\") as file:\n",
    "    #content = file.readlines()\n",
    "    \n",
    "    word_count = defaultdict(int)\n",
    "    for line in file:\n",
    "        for word in line.split(): \n",
    "            word_count[word] +=1\n",
    "    "
   ]
  },
  {
   "cell_type": "code",
   "execution_count": 77,
   "id": "25965104",
   "metadata": {},
   "outputs": [
    {
     "data": {
      "text/plain": [
       "defaultdict(int,\n",
       "            {'The': 271,\n",
       "             'Project': 80,\n",
       "             'Gutenberg': 23,\n",
       "             'eBook': 6,\n",
       "             'of': 2724,\n",
       "             'Adventures': 3,\n",
       "             'Sherlock': 96,\n",
       "             'Holmes,': 126,\n",
       "             'by': 338,\n",
       "             'Arthur': 13,\n",
       "             'Conan': 3,\n",
       "             'Doyle': 3,\n",
       "             'This': 52,\n",
       "             'is': 1073,\n",
       "             'for': 698,\n",
       "             'the': 5412,\n",
       "             'use': 37,\n",
       "             'anyone': 27,\n",
       "             'anywhere': 3,\n",
       "             'in': 1706,\n",
       "             'United': 16,\n",
       "             'States': 8,\n",
       "             'and': 2794,\n",
       "             'most': 88,\n",
       "             'other': 143,\n",
       "             'parts': 4,\n",
       "             'world': 7,\n",
       "             'at': 737,\n",
       "             'no': 286,\n",
       "             'cost': 5,\n",
       "             'with': 843,\n",
       "             'almost': 20,\n",
       "             'restrictions': 2,\n",
       "             'whatsoever.': 2,\n",
       "             'You': 136,\n",
       "             'may': 201,\n",
       "             'copy': 10,\n",
       "             'it,': 93,\n",
       "             'give': 55,\n",
       "             'it': 977,\n",
       "             'away': 84,\n",
       "             'or': 259,\n",
       "             're-use': 2,\n",
       "             'under': 44,\n",
       "             'terms': 22,\n",
       "             'License': 8,\n",
       "             'included': 3,\n",
       "             'this': 409,\n",
       "             'online': 4,\n",
       "             'www.gutenberg.org.': 2,\n",
       "             'If': 65,\n",
       "             'you': 1034,\n",
       "             'are': 319,\n",
       "             'not': 605,\n",
       "             'located': 7,\n",
       "             'States,': 5,\n",
       "             'will': 251,\n",
       "             'have': 895,\n",
       "             'to': 2702,\n",
       "             'check': 6,\n",
       "             'laws': 9,\n",
       "             'country': 22,\n",
       "             'where': 102,\n",
       "             'before': 140,\n",
       "             'using': 10,\n",
       "             'eBook.': 2,\n",
       "             'Title:': 1,\n",
       "             'Holmes': 198,\n",
       "             'Author:': 1,\n",
       "             'Release': 1,\n",
       "             'Date:': 1,\n",
       "             'November': 1,\n",
       "             '29,': 1,\n",
       "             '2002': 1,\n",
       "             '[eBook': 1,\n",
       "             '#1661]': 1,\n",
       "             '[Most': 1,\n",
       "             'recently': 2,\n",
       "             'updated:': 1,\n",
       "             'May': 4,\n",
       "             '20,': 1,\n",
       "             '2019]': 1,\n",
       "             'Language:': 1,\n",
       "             'English': 9,\n",
       "             'Character': 1,\n",
       "             'set': 48,\n",
       "             'encoding:': 1,\n",
       "             'UTF-8': 1,\n",
       "             'Produced': 1,\n",
       "             'by:': 1,\n",
       "             'an': 329,\n",
       "             'anonymous': 1,\n",
       "             'volunteer': 2,\n",
       "             'Jose': 1,\n",
       "             'Menendez': 1,\n",
       "             '***': 4,\n",
       "             'START': 1,\n",
       "             'OF': 19,\n",
       "             'THE': 26,\n",
       "             'PROJECT': 4,\n",
       "             'GUTENBERG': 3,\n",
       "             'EBOOK': 2,\n",
       "             'ADVENTURES': 2,\n",
       "             'SHERLOCK': 4,\n",
       "             'HOLMES': 2,\n",
       "             'cover': 6,\n",
       "             'Contents': 1,\n",
       "             'I.': 25,\n",
       "             'A': 73,\n",
       "             'Scandal': 2,\n",
       "             'Bohemia': 4,\n",
       "             'II.': 3,\n",
       "             'Red-Headed': 1,\n",
       "             'League': 7,\n",
       "             'III.': 3,\n",
       "             'Case': 1,\n",
       "             'Identity': 1,\n",
       "             'IV.': 2,\n",
       "             'Boscombe': 14,\n",
       "             'Valley': 4,\n",
       "             'Mystery': 1,\n",
       "             'V.': 2,\n",
       "             'Five': 2,\n",
       "             'Orange': 1,\n",
       "             'Pips': 1,\n",
       "             'VI.': 2,\n",
       "             'Man': 1,\n",
       "             'Twisted': 1,\n",
       "             'Lip': 1,\n",
       "             'VII.': 2,\n",
       "             'Adventure': 6,\n",
       "             'Blue': 1,\n",
       "             'Carbuncle': 1,\n",
       "             'VIII.': 2,\n",
       "             'Speckled': 1,\n",
       "             'Band': 1,\n",
       "             'IX.': 2,\n",
       "             'Engineer’s': 1,\n",
       "             'Thumb': 1,\n",
       "             'X.': 2,\n",
       "             'Noble': 1,\n",
       "             'Bachelor': 1,\n",
       "             'XI.': 2,\n",
       "             'Beryl': 2,\n",
       "             'Coronet': 1,\n",
       "             'XII.': 2,\n",
       "             'Copper': 8,\n",
       "             'Beeches': 3,\n",
       "             'SCANDAL': 1,\n",
       "             'IN': 2,\n",
       "             'BOHEMIA': 1,\n",
       "             'To': 17,\n",
       "             'she': 305,\n",
       "             'always': 55,\n",
       "             '_the_': 3,\n",
       "             'woman.': 8,\n",
       "             'I': 2533,\n",
       "             'seldom': 5,\n",
       "             'heard': 103,\n",
       "             'him': 253,\n",
       "             'mention': 2,\n",
       "             'her': 366,\n",
       "             'any': 157,\n",
       "             'name.': 3,\n",
       "             'In': 53,\n",
       "             'his': 1096,\n",
       "             'eyes': 58,\n",
       "             'eclipses': 1,\n",
       "             'predominates': 1,\n",
       "             'whole': 43,\n",
       "             'sex.': 1,\n",
       "             'It': 290,\n",
       "             'was': 1361,\n",
       "             'that': 1557,\n",
       "             'he': 1014,\n",
       "             'felt': 30,\n",
       "             'emotion': 3,\n",
       "             'akin': 3,\n",
       "             'love': 16,\n",
       "             'Irene': 13,\n",
       "             'Adler.': 2,\n",
       "             'All': 18,\n",
       "             'emotions,': 1,\n",
       "             'one': 283,\n",
       "             'particularly,': 1,\n",
       "             'were': 336,\n",
       "             'abhorrent': 1,\n",
       "             'cold,': 4,\n",
       "             'precise': 3,\n",
       "             'but': 439,\n",
       "             'admirably': 3,\n",
       "             'balanced': 1,\n",
       "             'mind.': 5,\n",
       "             'He': 264,\n",
       "             'was,': 13,\n",
       "             'take': 74,\n",
       "             'perfect': 6,\n",
       "             'reasoning': 7,\n",
       "             'observing': 4,\n",
       "             'machine': 11,\n",
       "             'has': 277,\n",
       "             'seen,': 3,\n",
       "             'as': 776,\n",
       "             'a': 2575,\n",
       "             'lover': 5,\n",
       "             'would': 313,\n",
       "             'placed': 18,\n",
       "             'himself': 61,\n",
       "             'false': 4,\n",
       "             'position.': 4,\n",
       "             'never': 92,\n",
       "             'spoke': 19,\n",
       "             'softer': 1,\n",
       "             'passions,': 1,\n",
       "             'save': 35,\n",
       "             'gibe': 1,\n",
       "             'sneer.': 2,\n",
       "             'They': 36,\n",
       "             'admirable': 3,\n",
       "             'things': 24,\n",
       "             'observer—excellent': 1,\n",
       "             'drawing': 5,\n",
       "             'veil': 4,\n",
       "             'from': 485,\n",
       "             'men’s': 2,\n",
       "             'motives': 3,\n",
       "             'actions.': 2,\n",
       "             'But': 100,\n",
       "             'trained': 4,\n",
       "             'reasoner': 3,\n",
       "             'admit': 2,\n",
       "             'such': 110,\n",
       "             'intrusions': 1,\n",
       "             'into': 272,\n",
       "             'own': 94,\n",
       "             'delicate': 7,\n",
       "             'finely': 1,\n",
       "             'adjusted': 2,\n",
       "             'temperament': 1,\n",
       "             'introduce': 4,\n",
       "             'distracting': 1,\n",
       "             'factor': 3,\n",
       "             'which': 753,\n",
       "             'might': 118,\n",
       "             'throw': 10,\n",
       "             'doubt': 49,\n",
       "             'upon': 460,\n",
       "             'all': 320,\n",
       "             'mental': 1,\n",
       "             'results.': 3,\n",
       "             'Grit': 1,\n",
       "             'sensitive': 1,\n",
       "             'instrument,': 1,\n",
       "             'crack': 2,\n",
       "             'high-power': 1,\n",
       "             'lenses,': 1,\n",
       "             'be': 610,\n",
       "             'more': 151,\n",
       "             'disturbing': 1,\n",
       "             'than': 160,\n",
       "             'strong': 32,\n",
       "             'nature': 13,\n",
       "             'his.': 1,\n",
       "             'And': 83,\n",
       "             'yet': 56,\n",
       "             'there': 275,\n",
       "             'woman': 35,\n",
       "             'him,': 64,\n",
       "             'late': 16,\n",
       "             'Adler,': 5,\n",
       "             'dubious': 1,\n",
       "             'questionable': 2,\n",
       "             'memory.': 4,\n",
       "             'had': 807,\n",
       "             'seen': 62,\n",
       "             'little': 257,\n",
       "             'lately.': 4,\n",
       "             'My': 54,\n",
       "             'marriage': 16,\n",
       "             'drifted': 2,\n",
       "             'us': 126,\n",
       "             'each': 32,\n",
       "             'other.': 9,\n",
       "             'complete': 10,\n",
       "             'happiness,': 2,\n",
       "             'home-centred': 1,\n",
       "             'interests': 3,\n",
       "             'rise': 5,\n",
       "             'up': 249,\n",
       "             'around': 2,\n",
       "             'man': 193,\n",
       "             'who': 253,\n",
       "             'first': 67,\n",
       "             'finds': 4,\n",
       "             'master': 7,\n",
       "             'establishment,': 1,\n",
       "             'sufficient': 5,\n",
       "             'absorb': 1,\n",
       "             'my': 901,\n",
       "             'attention,': 4,\n",
       "             'while': 64,\n",
       "             'loathed': 1,\n",
       "             'every': 75,\n",
       "             'form': 8,\n",
       "             'society': 6,\n",
       "             'Bohemian': 4,\n",
       "             'soul,': 1,\n",
       "             'remained': 16,\n",
       "             'our': 194,\n",
       "             'lodgings': 7,\n",
       "             'Baker': 33,\n",
       "             'Street,': 19,\n",
       "             'buried': 6,\n",
       "             'among': 33,\n",
       "             'old': 62,\n",
       "             'books,': 3,\n",
       "             'alternating': 1,\n",
       "             'week': 13,\n",
       "             'between': 55,\n",
       "             'cocaine': 3,\n",
       "             'ambition,': 1,\n",
       "             'drowsiness': 1,\n",
       "             'drug,': 4,\n",
       "             'fierce': 6,\n",
       "             'energy': 3,\n",
       "             'keen': 9,\n",
       "             'nature.': 4,\n",
       "             'still,': 3,\n",
       "             'ever,': 5,\n",
       "             'deeply': 10,\n",
       "             'attracted': 5,\n",
       "             'study': 5,\n",
       "             'crime,': 4,\n",
       "             'occupied': 1,\n",
       "             'immense': 10,\n",
       "             'faculties': 2,\n",
       "             'extraordinary': 18,\n",
       "             'powers': 5,\n",
       "             'observation': 4,\n",
       "             'following': 16,\n",
       "             'out': 272,\n",
       "             'those': 60,\n",
       "             'clues,': 1,\n",
       "             'clearing': 8,\n",
       "             'mysteries': 2,\n",
       "             'been': 385,\n",
       "             'abandoned': 3,\n",
       "             'hopeless': 2,\n",
       "             'official': 14,\n",
       "             'police.': 5,\n",
       "             'From': 13,\n",
       "             'time': 102,\n",
       "             'some': 227,\n",
       "             'vague': 8,\n",
       "             'account': 18,\n",
       "             'doings:': 1,\n",
       "             'summons': 2,\n",
       "             'Odessa': 1,\n",
       "             'case': 72,\n",
       "             'Trepoff': 1,\n",
       "             'murder,': 2,\n",
       "             'singular': 32,\n",
       "             'tragedy': 3,\n",
       "             'Atkinson': 1,\n",
       "             'brothers': 1,\n",
       "             'Trincomalee,': 1,\n",
       "             'finally': 11,\n",
       "             'mission': 5,\n",
       "             'accomplished': 1,\n",
       "             'so': 316,\n",
       "             'delicately': 1,\n",
       "             'successfully': 1,\n",
       "             'reigning': 3,\n",
       "             'family': 20,\n",
       "             'Holland.': 1,\n",
       "             'Beyond': 3,\n",
       "             'these': 68,\n",
       "             'signs': 13,\n",
       "             'activity,': 1,\n",
       "             'however,': 89,\n",
       "             'merely': 10,\n",
       "             'shared': 2,\n",
       "             'readers': 1,\n",
       "             'daily': 2,\n",
       "             'press,': 4,\n",
       "             'knew': 53,\n",
       "             'former': 2,\n",
       "             'friend': 49,\n",
       "             'companion.': 10,\n",
       "             'One': 25,\n",
       "             'night—it': 2,\n",
       "             'on': 334,\n",
       "             'twentieth': 2,\n",
       "             'March,': 2,\n",
       "             '1888—I': 1,\n",
       "             'returning': 10,\n",
       "             'journey': 5,\n",
       "             'patient': 1,\n",
       "             '(for': 1,\n",
       "             'now': 95,\n",
       "             'returned': 29,\n",
       "             'civil': 2,\n",
       "             'practice),': 1,\n",
       "             'when': 257,\n",
       "             'way': 79,\n",
       "             'led': 25,\n",
       "             'me': 414,\n",
       "             'through': 85,\n",
       "             'Street.': 15,\n",
       "             'As': 72,\n",
       "             'passed': 38,\n",
       "             'well-remembered': 1,\n",
       "             'door,': 30,\n",
       "             'must': 168,\n",
       "             'associated': 10,\n",
       "             'mind': 46,\n",
       "             'wooing,': 1,\n",
       "             'dark': 27,\n",
       "             'incidents': 5,\n",
       "             'Study': 3,\n",
       "             'Scarlet,': 3,\n",
       "             'seized': 10,\n",
       "             'desire': 6,\n",
       "             'see': 184,\n",
       "             'again,': 15,\n",
       "             'know': 137,\n",
       "             'how': 96,\n",
       "             'employing': 1,\n",
       "             'powers.': 1,\n",
       "             'His': 50,\n",
       "             'rooms': 19,\n",
       "             'brilliantly': 2,\n",
       "             'lit,': 2,\n",
       "             'and,': 51,\n",
       "             'even': 64,\n",
       "             'looked': 51,\n",
       "             'up,': 34,\n",
       "             'saw': 84,\n",
       "             'tall,': 6,\n",
       "             'spare': 6,\n",
       "             'figure': 14,\n",
       "             'pass': 12,\n",
       "             'twice': 8,\n",
       "             'silhouette': 1,\n",
       "             'against': 52,\n",
       "             'blind.': 2,\n",
       "             'pacing': 3,\n",
       "             'room': 57,\n",
       "             'swiftly,': 3,\n",
       "             'eagerly,': 1,\n",
       "             'head': 43,\n",
       "             'sunk': 8,\n",
       "             'chest': 5,\n",
       "             'hands': 42,\n",
       "             'clasped': 1,\n",
       "             'behind': 42,\n",
       "             'him.': 82,\n",
       "             'me,': 83,\n",
       "             'mood': 2,\n",
       "             'habit,': 2,\n",
       "             'attitude': 1,\n",
       "             'manner': 18,\n",
       "             'told': 49,\n",
       "             'their': 95,\n",
       "             'story.': 7,\n",
       "             'work': 57,\n",
       "             'again.': 15,\n",
       "             'risen': 3,\n",
       "             'drug-created': 1,\n",
       "             'dreams': 2,\n",
       "             'hot': 8,\n",
       "             'scent': 2,\n",
       "             'new': 29,\n",
       "             'problem.': 5,\n",
       "             'rang': 4,\n",
       "             'bell': 6,\n",
       "             'shown': 19,\n",
       "             'chamber': 10,\n",
       "             'formerly': 2,\n",
       "             'part': 32,\n",
       "             'own.': 3,\n",
       "             'effusive.': 1,\n",
       "             'was;': 1,\n",
       "             'glad,': 2,\n",
       "             'think,': 31,\n",
       "             'me.': 74,\n",
       "             'With': 24,\n",
       "             'hardly': 50,\n",
       "             'word': 30,\n",
       "             'spoken,': 2,\n",
       "             'kindly': 10,\n",
       "             'eye,': 1,\n",
       "             'waved': 4,\n",
       "             'armchair,': 3,\n",
       "             'threw': 29,\n",
       "             'across': 34,\n",
       "             'cigars,': 2,\n",
       "             'indicated': 3,\n",
       "             'spirit': 1,\n",
       "             'gasogene': 1,\n",
       "             'corner.': 2,\n",
       "             'Then': 68,\n",
       "             'stood': 34,\n",
       "             'fire': 16,\n",
       "             'over': 162,\n",
       "             'introspective': 2,\n",
       "             'fashion.': 3,\n",
       "             '“Wedlock': 1,\n",
       "             'suits': 2,\n",
       "             'you,”': 17,\n",
       "             'remarked.': 15,\n",
       "             '“I': 349,\n",
       "             'Watson,': 40,\n",
       "             'put': 67,\n",
       "             'seven': 24,\n",
       "             'half': 37,\n",
       "             'pounds': 3,\n",
       "             'since': 31,\n",
       "             'you.”': 32,\n",
       "             '“Seven!”': 1,\n",
       "             'answered.': 19,\n",
       "             '“Indeed,': 5,\n",
       "             'should': 206,\n",
       "             'thought': 64,\n",
       "             'more.': 13,\n",
       "             'Just': 9,\n",
       "             'trifle': 2,\n",
       "             'more,': 7,\n",
       "             'fancy,': 4,\n",
       "             'Watson.': 10,\n",
       "             'practice': 8,\n",
       "             'observe.': 3,\n",
       "             'did': 126,\n",
       "             'tell': 84,\n",
       "             'intended': 1,\n",
       "             'go': 80,\n",
       "             'harness.”': 1,\n",
       "             '“Then,': 11,\n",
       "             'do': 217,\n",
       "             'know?”': 1,\n",
       "             'deduce': 12,\n",
       "             'it.': 110,\n",
       "             'How': 19,\n",
       "             'getting': 7,\n",
       "             'yourself': 33,\n",
       "             'very': 370,\n",
       "             'wet': 4,\n",
       "             'lately,': 2,\n",
       "             'clumsy': 1,\n",
       "             'careless': 1,\n",
       "             'servant': 5,\n",
       "             'girl?”': 1,\n",
       "             '“My': 38,\n",
       "             'dear': 47,\n",
       "             'Holmes,”': 11,\n",
       "             'said': 447,\n",
       "             'I,': 33,\n",
       "             '“this': 5,\n",
       "             'too': 51,\n",
       "             'much.': 5,\n",
       "             'certainly': 27,\n",
       "             'burned,': 1,\n",
       "             'lived': 8,\n",
       "             'few': 77,\n",
       "             'centuries': 1,\n",
       "             'ago.': 6,\n",
       "             'true': 19,\n",
       "             'walk': 14,\n",
       "             'Thursday': 2,\n",
       "             'came': 142,\n",
       "             'home': 34,\n",
       "             'dreadful': 16,\n",
       "             'mess,': 1,\n",
       "             'changed': 5,\n",
       "             'clothes': 12,\n",
       "             'can’t': 12,\n",
       "             'imagine': 15,\n",
       "             'Mary': 15,\n",
       "             'Jane,': 1,\n",
       "             'incorrigible,': 1,\n",
       "             'wife': 35,\n",
       "             'given': 30,\n",
       "             'notice,': 1,\n",
       "             'there,': 25,\n",
       "             'fail': 3,\n",
       "             'out.”': 5,\n",
       "             'chuckled': 6,\n",
       "             'rubbed': 3,\n",
       "             'long,': 13,\n",
       "             'nervous': 8,\n",
       "             'together.': 8,\n",
       "             '“It': 124,\n",
       "             'simplicity': 1,\n",
       "             'itself,”': 1,\n",
       "             'he;': 8,\n",
       "             '“my': 4,\n",
       "             'inside': 11,\n",
       "             'your': 359,\n",
       "             'left': 76,\n",
       "             'shoe,': 1,\n",
       "             'just': 110,\n",
       "             'firelight': 1,\n",
       "             'strikes': 3,\n",
       "             'leather': 4,\n",
       "             'scored': 2,\n",
       "             'six': 21,\n",
       "             'parallel': 3,\n",
       "             'cuts.': 1,\n",
       "             'Obviously': 2,\n",
       "             'they': 140,\n",
       "             'caused': 15,\n",
       "             'someone': 14,\n",
       "             'carelessly': 1,\n",
       "             'scraped': 1,\n",
       "             'round': 65,\n",
       "             'edges': 3,\n",
       "             'sole': 2,\n",
       "             'order': 18,\n",
       "             'remove': 6,\n",
       "             'crusted': 1,\n",
       "             'mud': 3,\n",
       "             'Hence,': 1,\n",
       "             'see,': 19,\n",
       "             'double': 12,\n",
       "             'deduction': 4,\n",
       "             'vile': 3,\n",
       "             'weather,': 1,\n",
       "             'particularly': 5,\n",
       "             'malignant': 1,\n",
       "             'boot-slitting': 1,\n",
       "             'specimen': 2,\n",
       "             'London': 20,\n",
       "             'slavey.': 1,\n",
       "             'practice,': 2,\n",
       "             'if': 189,\n",
       "             'gentleman': 32,\n",
       "             'walks': 3,\n",
       "             'smelling': 1,\n",
       "             'iodoform,': 1,\n",
       "             'black': 44,\n",
       "             'mark': 5,\n",
       "             'nitrate': 1,\n",
       "             'silver': 1,\n",
       "             'right': 64,\n",
       "             'forefinger,': 2,\n",
       "             'bulge': 1,\n",
       "             'side': 52,\n",
       "             'top-hat': 3,\n",
       "             'show': 16,\n",
       "             'secreted': 1,\n",
       "             'stethoscope,': 1,\n",
       "             'dull,': 1,\n",
       "             'indeed,': 13,\n",
       "             'pronounce': 2,\n",
       "             'active': 4,\n",
       "             'member': 4,\n",
       "             'medical': 9,\n",
       "             'profession.”': 1,\n",
       "             'could': 280,\n",
       "             'help': 39,\n",
       "             'laughing': 4,\n",
       "             'ease': 1,\n",
       "             'explained': 8,\n",
       "             'process': 3,\n",
       "             'deduction.': 1,\n",
       "             '“When': 17,\n",
       "             'hear': 31,\n",
       "             'reasons,”': 1,\n",
       "             'remarked,': 17,\n",
       "             '“the': 5,\n",
       "             'thing': 32,\n",
       "             'appears': 15,\n",
       "             'ridiculously': 1,\n",
       "             'simple': 14,\n",
       "             'easily': 10,\n",
       "             'myself,': 6,\n",
       "             'though': 59,\n",
       "             'successive': 3,\n",
       "             'instance': 4,\n",
       "             'am': 181,\n",
       "             'baffled': 3,\n",
       "             'until': 73,\n",
       "             'explain': 14,\n",
       "             'process.': 2,\n",
       "             'believe': 27,\n",
       "             'good': 87,\n",
       "             'yours.”': 2,\n",
       "             '“Quite': 14,\n",
       "             'so,”': 6,\n",
       "             'answered,': 11,\n",
       "             'lighting': 2,\n",
       "             'cigarette,': 1,\n",
       "             'throwing': 12,\n",
       "             'down': 204,\n",
       "             'armchair.': 2,\n",
       "             '“You': 112,\n",
       "             'distinction': 1,\n",
       "             'clear.': 5,\n",
       "             'For': 26,\n",
       "             'example,': 5,\n",
       "             'frequently': 9,\n",
       "             'steps': 19,\n",
       "             'lead': 9,\n",
       "             'hall': 12,\n",
       "             'room.”': 7,\n",
       "             '“Frequently.”': 1,\n",
       "             '“How': 21,\n",
       "             'often?”': 1,\n",
       "             '“Well,': 67,\n",
       "             'hundreds': 3,\n",
       "             'times.”': 1,\n",
       "             '“Then': 39,\n",
       "             'many': 37,\n",
       "             'there?”': 4,\n",
       "             'many?': 1,\n",
       "             'don’t': 23,\n",
       "             'know.”': 6,\n",
       "             'so!': 3,\n",
       "             'observed.': 5,\n",
       "             'seen.': 5,\n",
       "             'That': 45,\n",
       "             'point.': 9,\n",
       "             'Now,': 28,\n",
       "             'seventeen': 1,\n",
       "             'steps,': 3,\n",
       "             'because': 14,\n",
       "             'both': 39,\n",
       "             'By': 17,\n",
       "             'way,': 17,\n",
       "             'interested': 9,\n",
       "             'problems,': 2,\n",
       "             'enough': 41,\n",
       "             'chronicle': 2,\n",
       "             'two': 128,\n",
       "             'trifling': 4,\n",
       "             'experiences,': 1,\n",
       "             'this.”': 3,\n",
       "             'sheet': 11,\n",
       "             'thick,': 3,\n",
       "             'pink-tinted': 1,\n",
       "             'notepaper': 1,\n",
       "             'lying': 14,\n",
       "             'open': 37,\n",
       "             'table.': 14,\n",
       "             'last': 74,\n",
       "             'post,”': 1,\n",
       "             'he.': 61,\n",
       "             '“Read': 1,\n",
       "             'aloud.”': 1,\n",
       "             'note': 18,\n",
       "             'undated,': 1,\n",
       "             'without': 79,\n",
       "             'either': 32,\n",
       "             'signature': 4,\n",
       "             'address.': 7,\n",
       "             '“There': 34,\n",
       "             'call': 39,\n",
       "             'to-night,': 5,\n",
       "             'quarter': 6,\n",
       "             'eight': 11,\n",
       "             'o’clock,”': 1,\n",
       "             'said,': 21,\n",
       "             '“a': 2,\n",
       "             'desires': 2,\n",
       "             'consult': 7,\n",
       "             'matter': 75,\n",
       "             'deepest': 5,\n",
       "             'moment.': 4,\n",
       "             'Your': 20,\n",
       "             'recent': 5,\n",
       "             'services': 1,\n",
       "             'royal': 4,\n",
       "             'houses': 6,\n",
       "             'Europe': 3,\n",
       "             'safely': 4,\n",
       "             'trusted': 2,\n",
       "             'matters': 13,\n",
       "             'importance': 8,\n",
       "             'can': 165,\n",
       "             'exaggerated.': 1,\n",
       "             'we': 413,\n",
       "             'quarters': 4,\n",
       "             'received.': 1,\n",
       "             'Be': 2,\n",
       "             'then': 92,\n",
       "             'hour,': 2,\n",
       "             'amiss': 2,\n",
       "             'visitor': 14,\n",
       "             'wear': 6,\n",
       "             'mask.”': 1,\n",
       "             '“This': 29,\n",
       "             'indeed': 20,\n",
       "             'mystery,”': 2,\n",
       "             '“What': 48,\n",
       "             'means?”': 1,\n",
       "             'data': 3,\n",
       "             'yet.': 5,\n",
       "             'capital': 3,\n",
       "             'mistake': 4,\n",
       "             'theorise': 1,\n",
       "             'data.': 4,\n",
       "             'Insensibly': 1,\n",
       "             'begins': 1,\n",
       "             'twist': 4,\n",
       "             'facts': 25,\n",
       "             'suit': 9,\n",
       "             'theories,': 1,\n",
       "             'instead': 7,\n",
       "             'theories': 3,\n",
       "             'facts.': 4,\n",
       "             'itself.': 2,\n",
       "             'What': 48,\n",
       "             'it?”': 24,\n",
       "             'carefully': 8,\n",
       "             'examined': 12,\n",
       "             'writing,': 3,\n",
       "             'paper': 26,\n",
       "             'written.': 1,\n",
       "             '“The': 73,\n",
       "             'wrote': 14,\n",
       "             'presumably': 2,\n",
       "             'well': 48,\n",
       "             'do,”': 3,\n",
       "             'endeavouring': 6,\n",
       "             'imitate': 1,\n",
       "             'companion’s': 4,\n",
       "             'processes.': 1,\n",
       "             '“Such': 2,\n",
       "             'bought': 4,\n",
       "             'crown': 1,\n",
       "             'packet.': 1,\n",
       "             'peculiarly': 1,\n",
       "             'stiff.”': 1,\n",
       "             '“Peculiar—that': 1,\n",
       "             'word,”': 1,\n",
       "             'Holmes.': 78,\n",
       "             'all.': 19,\n",
       "             'Hold': 1,\n",
       "             'light.”': 1,\n",
       "             'so,': 26,\n",
       "             'large': 38,\n",
       "             '“E”': 1,\n",
       "             'small': 75,\n",
       "             '“g,”': 1,\n",
       "             '“P,”': 1,\n",
       "             '“G”': 1,\n",
       "             '“t”': 1,\n",
       "             'woven': 2,\n",
       "             'texture': 1,\n",
       "             'paper.': 3,\n",
       "             'make': 76,\n",
       "             'that?”': 10,\n",
       "             'asked': 45,\n",
       "             'name': 43,\n",
       "             'maker,': 1,\n",
       "             'doubt;': 1,\n",
       "             'monogram,': 1,\n",
       "             'rather.”': 1,\n",
       "             '“Not': 18,\n",
       "             '‘G’': 1,\n",
       "             '‘t’': 1,\n",
       "             'stands': 6,\n",
       "             '‘Gesellschaft,’': 1,\n",
       "             'German': 10,\n",
       "             '‘Company.’': 1,\n",
       "             'customary': 1,\n",
       "             'contraction': 2,\n",
       "             'like': 90,\n",
       "             '‘Co.’': 1,\n",
       "             '‘P,’': 1,\n",
       "             'course,': 26,\n",
       "             '‘Papier.’': 1,\n",
       "             'Now': 20,\n",
       "             '‘Eg.’': 1,\n",
       "             'Let': 15,\n",
       "             'glance': 15,\n",
       "             'Continental': 1,\n",
       "             'Gazetteer.”': 1,\n",
       "             'took': 84,\n",
       "             'heavy': 26,\n",
       "             'brown': 13,\n",
       "             'volume': 4,\n",
       "             'shelves.': 1,\n",
       "             '“Eglow,': 1,\n",
       "             'Eglonitz—here': 1,\n",
       "             'are,': 18,\n",
       "             'Egria.': 1,\n",
       "             'German-speaking': 1,\n",
       "             'country—in': 1,\n",
       "             'Bohemia,': 4,\n",
       "             'far': 51,\n",
       "             'Carlsbad.': 1,\n",
       "             '‘Remarkable': 1,\n",
       "             'being': 45,\n",
       "             'scene': 12,\n",
       "             'death': 12,\n",
       "             'Wallenstein,': 1,\n",
       "             'its': 83,\n",
       "             'numerous': 1,\n",
       "             'glass-factories': 1,\n",
       "             'paper-mills.’': 1,\n",
       "             'Ha,': 2,\n",
       "             'ha,': 1,\n",
       "             'boy,': 6,\n",
       "             'what': 264,\n",
       "             'sparkled,': 1,\n",
       "             'sent': 20,\n",
       "             'great': 55,\n",
       "             'blue': 20,\n",
       "             'triumphant': 1,\n",
       "             'cloud': 4,\n",
       "             'cigarette.': 1,\n",
       "             'made': 102,\n",
       "             'Bohemia,”': 1,\n",
       "             'said.': 15,\n",
       "             '“Precisely.': 4,\n",
       "             'German.': 1,\n",
       "             'Do': 18,\n",
       "             'peculiar': 19,\n",
       "             'construction': 1,\n",
       "             'sentence—‘This': 1,\n",
       "             'received.’': 1,\n",
       "             'Frenchman': 1,\n",
       "             'Russian': 1,\n",
       "             'written': 20,\n",
       "             'that.': 18,\n",
       "             'uncourteous': 1,\n",
       "             'verbs.': 1,\n",
       "             'only': 155,\n",
       "             'remains,': 2,\n",
       "             'therefore,': 11,\n",
       "             'discover': 4,\n",
       "             'wanted': 11,\n",
       "             'writes': 1,\n",
       "             'prefers': 1,\n",
       "             'wearing': 3,\n",
       "             'mask': 2,\n",
       "             'showing': 6,\n",
       "             'face.': 22,\n",
       "             'here': 55,\n",
       "             'comes,': 1,\n",
       "             'mistaken,': 3,\n",
       "             'resolve': 2,\n",
       "             'doubts.”': 2,\n",
       "             'sharp': 14,\n",
       "             'sound': 22,\n",
       "             'horses’': 2,\n",
       "             'hoofs': 1,\n",
       "             'grating': 1,\n",
       "             'wheels': 6,\n",
       "             'curb,': 1,\n",
       "             'followed': 23,\n",
       "             'pull': 1,\n",
       "             'bell.': 4,\n",
       "             'whistled.': 1,\n",
       "             '“A': 22,\n",
       "             'pair,': 1,\n",
       "             'sound,”': 1,\n",
       "             '“Yes,”': 3,\n",
       "             'continued,': 6,\n",
       "             'glancing': 23,\n",
       "             'window.': 6,\n",
       "             'nice': 7,\n",
       "             'brougham': 3,\n",
       "             'pair': 11,\n",
       "             'beauties.': 1,\n",
       "             'hundred': 18,\n",
       "             'fifty': 8,\n",
       "             'guineas': 2,\n",
       "             'apiece.': 3,\n",
       "             'There’s': 6,\n",
       "             'money': 24,\n",
       "             'case,': 19,\n",
       "             'nothing': 78,\n",
       "             'else.”': 3,\n",
       "             'think': 132,\n",
       "             'better': 40,\n",
       "             'go,': 8,\n",
       "             'Holmes.”': 5,\n",
       "             'bit,': 1,\n",
       "             'Doctor.': 1,\n",
       "             'Stay': 1,\n",
       "             'are.': 8,\n",
       "             'lost': 21,\n",
       "             'Boswell.': 1,\n",
       "             'promises': 4,\n",
       "             'interesting.': 5,\n",
       "             'pity': 5,\n",
       "             'miss': 5,\n",
       "             'it.”': 35,\n",
       "             '“But': 72,\n",
       "             'client—”': 1,\n",
       "             '“Never': 5,\n",
       "             'want': 25,\n",
       "             'help,': 6,\n",
       "             'Here': 17,\n",
       "             'comes.': 1,\n",
       "             'Sit': 2,\n",
       "             'Doctor,': 12,\n",
       "             'best': 26,\n",
       "             ...})"
      ]
     },
     "execution_count": 77,
     "metadata": {},
     "output_type": "execute_result"
    }
   ],
   "source": [
    "word_count"
   ]
  },
  {
   "cell_type": "code",
   "execution_count": null,
   "id": "bfa33ed6",
   "metadata": {},
   "outputs": [],
   "source": []
  }
 ],
 "metadata": {
  "kernelspec": {
   "display_name": "Python 3 (ipykernel)",
   "language": "python",
   "name": "python3"
  },
  "language_info": {
   "codemirror_mode": {
    "name": "ipython",
    "version": 3
   },
   "file_extension": ".py",
   "mimetype": "text/x-python",
   "name": "python",
   "nbconvert_exporter": "python",
   "pygments_lexer": "ipython3",
   "version": "3.9.5"
  }
 },
 "nbformat": 4,
 "nbformat_minor": 5
}
